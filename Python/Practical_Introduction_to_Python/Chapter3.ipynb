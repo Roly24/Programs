{
 "cells": [
  {
   "cell_type": "markdown",
   "id": "7758d3b4",
   "metadata": {},
   "source": [
    "# Chapter 3\n",
    "## Your first program\n",
    "In this chapter, you will:\n",
    "- Write your first Python script\n",
    "- Learn what happens when you run a script with an error\n",
    "- Learn how to declare a variable and inspect its value\n",
    "- Learn how to write comments \n",
    "\n",
    "## 3.1 Write a Python Script\n",
    "### The Interactive Window\n",
    "It contains a Python shell, which is a textual user interface used to interact with the Python language."
   ]
  },
  {
   "cell_type": "code",
   "execution_count": 2,
   "id": "3073b854",
   "metadata": {},
   "outputs": [
    {
     "name": "stdout",
     "output_type": "stream",
     "text": [
      "Hello, world!\n"
     ]
    }
   ],
   "source": [
    "# >>> print(\"Hello, world!\")\n",
    "# The \">>>\" is called the prompt.\n",
    "print(\"Hello, world!\")"
   ]
  },
  {
   "cell_type": "markdown",
   "id": "cd710d4b",
   "metadata": {},
   "source": [
    "The $\\color{green}{\\verb|print()|}$ is a function. A function is a bit of code that typically takes some input, called an **argument**, does something with that input, and produces some output, called the **return value**."
   ]
  },
  {
   "cell_type": "markdown",
   "id": "8dcd5424",
   "metadata": {},
   "source": [
    "The sequences of events n the interactive window can be described as a loop with three steps:\n",
    "1. First, Python read the code entered at the prompt.\n",
    "2. Then the code is evaluated.\n",
    "3. Finally, the output is printed in the window and a new prompt is displayed.\n",
    "This is commonly referred to as a **Read-Evaluate-Print Loop** or RELP.\n",
    "\n",
    "$\\color{red}{\\textbf{Important:}}$ Functions can have *side effects*. A side effect occurs anytime a function perfoms some operation that changes something about the program (add or create information).\n",
    "\n",
    "**Script:** A script is a kind of file containing lines of code.\n",
    "**Script files:** To refer a files containing Python scripts.\n",
    "\n",
    "## 3.2 Mess Things Up\n",
    "Let's get a head start on that and mess something up on purpose to see what happens. Mistakes made in a pograms are called **errors**, and theere are two main types of errors you'll experience:\n",
    "1. Syntax errors\n",
    "2. Run-time errors\n",
    "\n",
    "### Syntax errors\n",
    "Syntax error occurs when you write some code that isn´t allowed in the Python language."
   ]
  },
  {
   "cell_type": "code",
   "execution_count": 3,
   "id": "c5c2628c",
   "metadata": {
    "scrolled": true
   },
   "outputs": [
    {
     "ename": "SyntaxError",
     "evalue": "unterminated string literal (detected at line 1) (3760663132.py, line 1)",
     "output_type": "error",
     "traceback": [
      "\u001b[0;36m  Input \u001b[0;32mIn [3]\u001b[0;36m\u001b[0m\n\u001b[0;31m    print(\"Hello, world!)\u001b[0m\n\u001b[0m          ^\u001b[0m\n\u001b[0;31mSyntaxError\u001b[0m\u001b[0;31m:\u001b[0m unterminated string literal (detected at line 1)\n"
     ]
    }
   ],
   "source": [
    "print(\"Hello, world!)"
   ]
  },
  {
   "cell_type": "markdown",
   "id": "925af907",
   "metadata": {},
   "source": [
    "**EOL:** stands for End Of Line, so this message tells you that Python read all the way to the end of the line without finding the end of something called a string literal. A **string literal** is text contained in-between two double quotiation marks. The text \"Hello, worl!\" is that."
   ]
  },
  {
   "cell_type": "markdown",
   "id": "2857f8fd",
   "metadata": {},
   "source": [
    "### Run-time Errors\n",
    "Run-time errors can´t be caught until a program is executed.They only occur at the time that a program is run."
   ]
  },
  {
   "cell_type": "code",
   "execution_count": 4,
   "id": "bcd907a9",
   "metadata": {},
   "outputs": [
    {
     "ename": "NameError",
     "evalue": "name 'Hello' is not defined",
     "output_type": "error",
     "traceback": [
      "\u001b[0;31m---------------------------------------------------------------------------\u001b[0m",
      "\u001b[0;31mNameError\u001b[0m                                 Traceback (most recent call last)",
      "Input \u001b[0;32mIn [4]\u001b[0m, in \u001b[0;36m<cell line: 1>\u001b[0;34m()\u001b[0m\n\u001b[0;32m----> 1\u001b[0m \u001b[38;5;28mprint\u001b[39m(\u001b[43mHello\u001b[49m, world)\n",
      "\u001b[0;31mNameError\u001b[0m: name 'Hello' is not defined"
     ]
    }
   ],
   "source": [
    "print(Hello, world)"
   ]
  },
  {
   "cell_type": "markdown",
   "id": "0706e9ab",
   "metadata": {},
   "source": [
    "Python **raised** an error and stop executing the program. The text displayed in the IDLE is called a **traceback**. Traceback give you some useful information about the error. In this case, it tells us:\n",
    "- The error happened on the line 1.\n",
    "- The line that generated the error was: print(Hello, world).\n",
    "- A NameError occurred.\n",
    "- The specific error was name 'Hello' is not defined."
   ]
  },
  {
   "cell_type": "markdown",
   "id": "154e57a5",
   "metadata": {},
   "source": [
    "## 3.3 Create a Variable\n",
    "Variables are names that can be assigned a value and used to reference that value throughout your code. Variables are fundamental to programming for two reasons:\n",
    "1. Variables keep values accessible.\n",
    "2. Variables give values context.\n",
    "\n",
    "### The Assignment Operator \n",
    "Values are assigned to a varible using a special symbol = called the **assignment operator**. An operator is a symbol, like = or +, that performs some operation on one or more values."
   ]
  },
  {
   "cell_type": "code",
   "execution_count": 2,
   "id": "2633ce6f",
   "metadata": {},
   "outputs": [
    {
     "name": "stdout",
     "output_type": "stream",
     "text": [
      "Hello, world\n"
     ]
    }
   ],
   "source": [
    "phrase = \"Hello, world\"\n",
    "print(phrase)"
   ]
  },
  {
   "cell_type": "markdown",
   "id": "e8ae8a52",
   "metadata": {},
   "source": [
    "Variable names are **case-sensitive**, so a variable named pahase is distinct from a variable named Phrase."
   ]
  },
  {
   "cell_type": "code",
   "execution_count": 3,
   "id": "53a544dd",
   "metadata": {},
   "outputs": [
    {
     "ename": "NameError",
     "evalue": "name 'Phrase' is not defined",
     "output_type": "error",
     "traceback": [
      "\u001b[0;31m---------------------------------------------------------------------------\u001b[0m",
      "\u001b[0;31mNameError\u001b[0m                                 Traceback (most recent call last)",
      "Input \u001b[0;32mIn [3]\u001b[0m, in \u001b[0;36m<cell line: 1>\u001b[0;34m()\u001b[0m\n\u001b[0;32m----> 1\u001b[0m \u001b[38;5;28mprint\u001b[39m(\u001b[43mPhrase\u001b[49m)\n",
      "\u001b[0;31mNameError\u001b[0m: name 'Phrase' is not defined"
     ]
    }
   ],
   "source": [
    "print(Phrase)"
   ]
  },
  {
   "cell_type": "markdown",
   "id": "cb9a6a56",
   "metadata": {},
   "source": [
    "Computers can't use common sense to interpret what you meant to say, so being almost correct won't get a computer to do the right thing!"
   ]
  },
  {
   "cell_type": "markdown",
   "id": "3a9293a4",
   "metadata": {},
   "source": [
    "### Rules for Valid Variable Names\n",
    "Variable names can be as long or as short as you like, but there are a couple of rules that you must follow. Variable names con only contain uppercase and lowercase letters (A_Z, a-z), digits (0,9), and underscores (\\_). However, variable names cannot begin with a digit.\n",
    "\n",
    "Herea are some valid variable names:\n",
    "- pharese\n",
    "- string1\n",
    "- list_of_names\n",
    "- Hello_World\n",
    "but $\\verb|9lives|$ is not.\n",
    "\n",
    "Python variable names can contain many different valid Unicode characters. **Unicode** is a standard for digitally representing text used in most of the world's writing systems. \n",
    "\n",
    "Just because a variable name is valid doesn't necessarly mean that it is a good name. Choosing a good name for a variable can be surprisingly difficult. However, there are some guidelines that you can follow to help you choose better names:\n",
    "- Descriptive Names Are better Than short Names\n",
    "```python\n",
    "seconds_per_hour = 3600\n",
    "# There is no doubt about what the code means.\n",
    "```\n",
    "\n",
    "**Recommendation** : Keep varibales names to fewer than tree or four words.\n",
    "- Python Variable Naming Conventions\n",
    "```Python\n",
    "    # camelCase: numStudents, listOfNames.\n",
    "    # snake_case: list_of_names, num_students.\n",
    "```\n",
    "\n",
    "**Recommentation for camel case** : The first letter of evvery word, expect the first, is capitalized, and all other letters are lower-case.\n",
    "\n",
    "**Recommentation for snake case** : Every letter is lower-case, and each word is separeted by an underscore. \n",
    "\n",
    "\n",
    "## 3.5 Leave Yourself Helpful Notes\n",
    "You can leave comments in your code. **Comments** are lines of text that don't affect the way the script runs. They help to documents what's supposed to be happening. \n",
    "\n",
    "### How to Write a Comment\n",
    "Begin a new line in your code with the $\\verb|#|$ character. When your code is run, any lines starting with $\\verb|#|$ are ignored.\n",
    "- Block comments: are comments that start on a new line.\n",
    "- In-line comments: are comments that apper on the same line as some code.\n",
    "\n",
    "```python\n",
    "# This is a block comment.\n",
    "\n",
    "phrase = \"Hello world.\"\n",
    "print(phrase) # This is an in-line comment.\n",
    "```\n",
    "**Notes** : Comments can also be used to **comment out** code while your're testing a program.\n",
    "\n",
    "### Conventions and Pet Peeves\n",
    "According to PEP 8, comments should always be written in complete sentences with a single space between the # and the first word of the comment:\n",
    "```python\n",
    "# This comment is formatted to PEP 8.\n",
    "\n",
    "#don't do this\n",
    "```\n",
    "\n",
    "For in-line comments, PEP 8 recommends at least two spaces between the code and the # symbol:\n",
    "```python\n",
    "phrase = \"Hello, world.\" # This comment is PEP 8 compliant.\n",
    "print(phrase)# This comment isn't.\n",
    "```\n",
    "\n",
    "**Notes** : Comments are best used to clarify code that may not be easy to understand, or to explain why something is done a certain way.\n",
    "\n",
    "# Chapter 4\n",
    "## String and String Methods\n",
    "In this chapter,you will learn how to:\n",
    "- Manipulate strings with string methods\n",
    "- Work with user input\n",
    "- Deal with strings of numbers\n",
    "- Format strings for printing\n",
    "\n",
    "## 4.1 What is a String?\n",
    "### The String Data Type\n",
    "Strings are one of the fundamental Python data types. The term **data type** refers to what kind of data a value represents. Strings are used to represent text.\n",
    "\n",
    "Strings are a **fundamental** data type because they can't be broken down into smaller values of a different type. Not all data types are fundamental. You'll learn about compound data types, aslo known as **data structures** in chapter 9.\n",
    "\n",
    "The abbreviation name in Python for the string data type is $\\color{green}{str}$."
   ]
  },
  {
   "cell_type": "code",
   "execution_count": 1,
   "id": "293ac6d7",
   "metadata": {},
   "outputs": [
    {
     "data": {
      "text/plain": [
       "str"
      ]
     },
     "execution_count": 1,
     "metadata": {},
     "output_type": "execute_result"
    }
   ],
   "source": [
    "type(\"Hello, world!\")"
   ]
  },
  {
   "cell_type": "markdown",
   "id": "36e6c251",
   "metadata": {},
   "source": [
    "The output $\\verb|<class 'str'>|$ indicates that the value $\\verb|\"Hello, world!\"|$ is an instance of the $\\verb|str|$ data type. That is, $\\verb|\"Hello, world!\"|$ is a string.\n",
    "\n",
    "Strings have three properties:\n",
    "1. Strings contain **characters**, which are individual letters or symbols.\n",
    "2. Strings have a **length**, which is the number of characters contained in the string.\n",
    "3. Characters in a string appear in a **sequence**, meaning each character has a numbered position in the string."
   ]
  },
  {
   "cell_type": "markdown",
   "id": "67495c07",
   "metadata": {},
   "source": [
    "### String Literals"
   ]
  },
  {
   "cell_type": "code",
   "execution_count": 2,
   "id": "8cea59eb",
   "metadata": {},
   "outputs": [],
   "source": [
    "string1 = 'Hello, world!'\n",
    "string2 = \"1234\""
   ]
  },
  {
   "cell_type": "markdown",
   "id": "8e72cf86",
   "metadata": {},
   "source": [
    "whenever you create a string by surrouding text with quotation marks, the string is called **string literal**. The name indicates that the string is literally written out in your code. All of the strings you have seen thus far are string literals. \n",
    "\n",
    "**Note** : Not every string is a string literal. For example, a string captured as user input isn't string literal because it isn't explicitly written out in the programs's code.\n",
    "\n",
    "**Delimiters** : are the quotes surrounding a string because they tell Python where a string begins and where it ends."
   ]
  },
  {
   "cell_type": "code",
   "execution_count": 3,
   "id": "1e5d4274",
   "metadata": {},
   "outputs": [],
   "source": [
    "string3 = \"We're #1\"\n",
    "string4 = 'I said, \"Put it over by the llama.\"'"
   ]
  },
  {
   "cell_type": "markdown",
   "id": "a912412c",
   "metadata": {},
   "source": [
    "### Determine the Length of a String"
   ]
  },
  {
   "cell_type": "markdown",
   "id": "27dd6c92",
   "metadata": {},
   "source": [
    "The number of characters contained in a string, including spaces, is called the <b>lenght</b> of the string."
   ]
  },
  {
   "cell_type": "code",
   "execution_count": 1,
   "id": "3d1e121a",
   "metadata": {},
   "outputs": [
    {
     "data": {
      "text/plain": [
       "3"
      ]
     },
     "execution_count": 1,
     "metadata": {},
     "output_type": "execute_result"
    }
   ],
   "source": [
    "len(\"abc\")"
   ]
  },
  {
   "cell_type": "code",
   "execution_count": 2,
   "id": "5b573c08",
   "metadata": {},
   "outputs": [
    {
     "data": {
      "text/plain": [
       "3"
      ]
     },
     "execution_count": 2,
     "metadata": {},
     "output_type": "execute_result"
    }
   ],
   "source": [
    "letters = \"abc\"\n",
    "num_letters = len(letters)\n",
    "num_letters"
   ]
  },
  {
   "cell_type": "markdown",
   "id": "7999122f",
   "metadata": {},
   "source": [
    "### Multiline Strings\n",
    "The <font color=\"blue\">PEP 8</font> style guide recommends that each line of Python code contain no more than 79 characters-including spaces."
   ]
  },
  {
   "cell_type": "code",
   "execution_count": 3,
   "id": "a3b6c61e",
   "metadata": {},
   "outputs": [],
   "source": [
    "paragraph = \"This planet has - or rather had - a problem, which as \\\n",
    "this: most of the people living on it were unhappy for pretty much \\\n",
    "of the time. Many solutions were suggested for this problem, but \\\n",
    "most of these were largely concerned with the movements of small \\\n",
    "green pieces of paper, which is odd because on the whole it wasn't \\\n",
    "the small green pieces of paper that were unhppy.\""
   ]
  },
  {
   "cell_type": "markdown",
   "id": "2f5c1de8",
   "metadata": {},
   "source": [
    "With a backslash at the end, you can keep writing the same string on the next line. <br>\n",
    "\n",
    "When you print() a multiline string that is broken up by backslashes, the output displayed on a single line:"
   ]
  },
  {
   "cell_type": "code",
   "execution_count": 4,
   "id": "1ce41059",
   "metadata": {},
   "outputs": [
    {
     "data": {
      "text/plain": [
       "\"This planet has - or rather had - a problem, which as this: most of the people living on it were unhappy for pretty much of the time. Many solutions were suggested for this problem, but most of these were largely concerned with the movements of small green pieces of paper, which is odd because on the whole it wasn't the small green pieces of paper that were unhppy.\""
      ]
     },
     "execution_count": 4,
     "metadata": {},
     "output_type": "execute_result"
    }
   ],
   "source": [
    "paragraph"
   ]
  },
  {
   "cell_type": "code",
   "execution_count": 5,
   "id": "09f9e067",
   "metadata": {},
   "outputs": [
    {
     "name": "stdout",
     "output_type": "stream",
     "text": [
      "This multiline string is displayed on one line.\n"
     ]
    }
   ],
   "source": [
    "long_string = \"This multiline string is \\\n",
    "displayed on one line.\"\n",
    "print(long_string)"
   ]
  },
  {
   "cell_type": "markdown",
   "id": "006fc483",
   "metadata": {},
   "source": [
    "Using triple quotes as delimiters (\"\"\"or '''):"
   ]
  },
  {
   "cell_type": "code",
   "execution_count": 6,
   "id": "271ec6e3",
   "metadata": {},
   "outputs": [],
   "source": [
    "paragraph = \"\"\"This planet has - or rather had - a problem, which was \n",
    "this: most of the people living on it were unhappy for pretty much\n",
    "of the time. Many solutions were suggested for this problem, but\n",
    "most of these were largely concerned with the movements of small \n",
    "green pieces of paper, which is odd because on the whole it wasn't\n",
    "the small green pieces of paper that were unhappy.\"\"\""
   ]
  },
  {
   "cell_type": "markdown",
   "id": "fc4885a2",
   "metadata": {},
   "source": [
    "Triple-quoted strings preserve whitespace. This means that \n",
    "running print(paragraph) displays the string on multiple lines just like it is in \n",
    "the string literal, inclusing newlines. This may or may not be what you want, so you'll need to think about the desired output before you\n",
    "choose how to write a multiline string."
   ]
  },
  {
   "cell_type": "code",
   "execution_count": 9,
   "id": "16595825",
   "metadata": {},
   "outputs": [
    {
     "name": "stdout",
     "output_type": "stream",
     "text": [
      "An example of a \n",
      "        string that spans across multiple lines\n",
      "                that also preserves whitespace.\n"
     ]
    }
   ],
   "source": [
    "print(\"\"\"An example of a \n",
    "        string that spans across multiple lines\n",
    "                that also preserves whitespace.\"\"\")"
   ]
  },
  {
   "cell_type": "markdown",
   "id": "649f1d46",
   "metadata": {},
   "source": [
    "<b>Note:</b> Triple-quoted strings have a special purpose in Python. They are used to document code. You'll often find them at the top of a.py with a description of the code's purpose. They are also used to document custom functions (<b>docstrings</b>)."
   ]
  },
  {
   "cell_type": "markdown",
   "id": "dde6fd88",
   "metadata": {},
   "source": [
    "#### Review Exercises:\n",
    "<ol>\n",
    "    <li> Print a string that uses double quotation marks inside the string.</li>\n",
    "    <li> Print a string that uses an apostrophe inside string</li>\n",
    "    <li> Print a string that is coded on multiple lines but displays on a single line</li>\n",
    "</ol>"
   ]
  },
  {
   "cell_type": "markdown",
   "id": "46e66b33",
   "metadata": {},
   "source": [
    "## 4.2 Concatenation, Indexing, and Slicing \n",
    "In this section, you'll lean about three basic string opeartions:\n",
    "<ol>\n",
    "    <li> Concatenation, which joins two strings together.</li>\n",
    "    <li> Indexing, which gets a single character from a string. </li>\n",
    "    <li> Slicing, which gets several characters from a string at once. </li>\n",
    "</ol>\n"
   ]
  },
  {
   "cell_type": "markdown",
   "id": "2a7210a6",
   "metadata": {},
   "source": [
    "### String Concatenation\n",
    "Two strings can be combined, or <b>concatenated</b>, using the + operator:"
   ]
  },
  {
   "cell_type": "code",
   "execution_count": 10,
   "id": "288c4496",
   "metadata": {},
   "outputs": [
    {
     "data": {
      "text/plain": [
       "'abracadabra'"
      ]
     },
     "execution_count": 10,
     "metadata": {},
     "output_type": "execute_result"
    }
   ],
   "source": [
    "string1 = \"abra\"\n",
    "string2 = \"cadabra\"\n",
    "magic_string = string1 + string2\n",
    "magic_string"
   ]
  },
  {
   "cell_type": "code",
   "execution_count": 13,
   "id": "f899a86c",
   "metadata": {},
   "outputs": [
    {
     "data": {
      "text/plain": [
       "'Roly Gutierrez'"
      ]
     },
     "execution_count": 13,
     "metadata": {},
     "output_type": "execute_result"
    }
   ],
   "source": [
    "first_name = \"Roly\"\n",
    "last_name = \"Gutierrez\"\n",
    "full_name = first_name + \" \" + last_name\n",
    "full_name"
   ]
  },
  {
   "cell_type": "markdown",
   "id": "ada14b9c",
   "metadata": {},
   "source": [
    "### String Indexing\n",
    "Each character in a string has a numbered position called an index.\n",
    "You can access the character at the <i>Nth</i> position by putting the \n",
    "number <i>N</i> in between two square brackets ([ and ]) inmediately after the string:"
   ]
  },
  {
   "cell_type": "code",
   "execution_count": 6,
   "id": "82dcd736",
   "metadata": {},
   "outputs": [
    {
     "data": {
      "text/plain": [
       "'p'"
      ]
     },
     "execution_count": 6,
     "metadata": {},
     "output_type": "execute_result"
    }
   ],
   "source": [
    "flavor = \"apple pie\"\n",
    "flavor[1]"
   ]
  },
  {
   "cell_type": "markdown",
   "id": "7e7bb65c",
   "metadata": {},
   "source": [
    "In python and most other programming languages counting\n",
    "always start at zero."
   ]
  },
  {
   "cell_type": "code",
   "execution_count": 7,
   "id": "ef39973c",
   "metadata": {},
   "outputs": [
    {
     "data": {
      "text/plain": [
       "'a'"
      ]
     },
     "execution_count": 7,
     "metadata": {},
     "output_type": "execute_result"
    }
   ],
   "source": [
    "flavor[0]"
   ]
  },
  {
   "cell_type": "code",
   "execution_count": 8,
   "id": "bbed2573",
   "metadata": {},
   "outputs": [
    {
     "data": {
      "text/plain": [
       "'e'"
      ]
     },
     "execution_count": 8,
     "metadata": {},
     "output_type": "execute_result"
    }
   ],
   "source": [
    "flavor[-1]"
   ]
  },
  {
   "cell_type": "code",
   "execution_count": 9,
   "id": "4469f199",
   "metadata": {},
   "outputs": [
    {
     "data": {
      "text/plain": [
       "'i'"
      ]
     },
     "execution_count": 9,
     "metadata": {},
     "output_type": "execute_result"
    }
   ],
   "source": [
    "flavor[-2]"
   ]
  },
  {
   "cell_type": "markdown",
   "id": "7a6495e9",
   "metadata": {},
   "source": [
    "### String Slicing\n",
    "You can extract a portion of a string, called a <b>substring</b>, by inserting a \n",
    "colon between two index numbers inside of square brackets, like this:"
   ]
  },
  {
   "cell_type": "code",
   "execution_count": 10,
   "id": "19488c7a",
   "metadata": {},
   "outputs": [
    {
     "data": {
      "text/plain": [
       "'app'"
      ]
     },
     "execution_count": 10,
     "metadata": {},
     "output_type": "execute_result"
    }
   ],
   "source": [
    "flavor = \"apple pie\"\n",
    "flavor[0:3]"
   ]
  },
  {
   "cell_type": "markdown",
   "id": "96ca7b6a",
   "metadata": {},
   "source": [
    "$\\verb|flavor[0:3]|$ return the first three characters of the string aasigned to $\\verb|flavor|$, starting with the character with the index $0$ and going up to, but not including, the character with index $3$. The $\\verb|0:3|$ part of $\\verb|flavor[0:3]|$ is called a $\\textbf{slice}$. In this case, it returns a slice of \"$\\verb|apple pie\"|$. Yum!"
   ]
  },
  {
   "cell_type": "code",
   "execution_count": 12,
   "id": "8301b8ab",
   "metadata": {},
   "outputs": [
    {
     "data": {
      "text/plain": [
       "'apple'"
      ]
     },
     "execution_count": 12,
     "metadata": {},
     "output_type": "execute_result"
    }
   ],
   "source": [
    "# If you ommit hte first index in a slice\n",
    "\n",
    "flavor[:5] # It's equivalent of the slice [0:5]"
   ]
  },
  {
   "cell_type": "code",
   "execution_count": 15,
   "id": "d5f6392d",
   "metadata": {},
   "outputs": [
    {
     "data": {
      "text/plain": [
       "' pie'"
      ]
     },
     "execution_count": 15,
     "metadata": {},
     "output_type": "execute_result"
    }
   ],
   "source": [
    "# If you ommit the second index in the slice\n",
    "\n",
    "flavor[5:] # It's equivalent of the slice [5:9]"
   ]
  },
  {
   "cell_type": "code",
   "execution_count": 22,
   "id": "91144134",
   "metadata": {},
   "outputs": [
    {
     "data": {
      "text/plain": [
       "'apple pie'"
      ]
     },
     "execution_count": 22,
     "metadata": {},
     "output_type": "execute_result"
    }
   ],
   "source": [
    "# If you ommit both the first and second numbers in a slice\n",
    "\n",
    "flavor[0:9] # It's equivalent of the slice [0:9]"
   ]
  },
  {
   "cell_type": "markdown",
   "id": "be3f8b8a",
   "metadata": {},
   "source": [
    "It's important to note that, unlike string indexing, Python won't raise an $\\verb|IndexError|$ when you try to slice between boundaries before  or after the beginning and ending boundaries of a string:"
   ]
  },
  {
   "cell_type": "code",
   "execution_count": 23,
   "id": "1fb4f381",
   "metadata": {},
   "outputs": [
    {
     "data": {
      "text/plain": [
       "'apple pie'"
      ]
     },
     "execution_count": 23,
     "metadata": {},
     "output_type": "execute_result"
    }
   ],
   "source": [
    "flavor[:14]"
   ]
  },
  {
   "cell_type": "code",
   "execution_count": 25,
   "id": "6bcaea47",
   "metadata": {},
   "outputs": [
    {
     "data": {
      "text/plain": [
       "''"
      ]
     },
     "execution_count": 25,
     "metadata": {},
     "output_type": "execute_result"
    }
   ],
   "source": [
    "flavor[13:15]"
   ]
  },
  {
   "cell_type": "markdown",
   "id": "c67767bc",
   "metadata": {},
   "source": [
    "## Strings are inmutable\n",
    "Strings are inmutable, which means that you can'them once you've created them."
   ]
  },
  {
   "cell_type": "code",
   "execution_count": 1,
   "id": "34704664",
   "metadata": {},
   "outputs": [
    {
     "ename": "TypeError",
     "evalue": "'str' object does not support item assignment",
     "output_type": "error",
     "traceback": [
      "\u001b[0;31m---------------------------------------------------------------------------\u001b[0m",
      "\u001b[0;31mTypeError\u001b[0m                                 Traceback (most recent call last)",
      "Cell \u001b[0;32mIn[1], line 2\u001b[0m\n\u001b[1;32m      1\u001b[0m word \u001b[38;5;241m=\u001b[39m \u001b[38;5;124m\"\u001b[39m\u001b[38;5;124mgoal\u001b[39m\u001b[38;5;124m\"\u001b[39m\n\u001b[0;32m----> 2\u001b[0m \u001b[43mword\u001b[49m\u001b[43m[\u001b[49m\u001b[38;5;241;43m0\u001b[39;49m\u001b[43m]\u001b[49m \u001b[38;5;241m=\u001b[39m \u001b[38;5;124m\"\u001b[39m\u001b[38;5;124mf\u001b[39m\u001b[38;5;124m\"\u001b[39m\n",
      "\u001b[0;31mTypeError\u001b[0m: 'str' object does not support item assignment"
     ]
    }
   ],
   "source": [
    "word = \"goal\"\n",
    "word[0] = \"f\""
   ]
  }
 ],
 "metadata": {
  "kernelspec": {
   "display_name": "DIP",
   "language": "python",
   "name": "dip"
  },
  "language_info": {
   "codemirror_mode": {
    "name": "ipython",
    "version": 3
   },
   "file_extension": ".py",
   "mimetype": "text/x-python",
   "name": "python",
   "nbconvert_exporter": "python",
   "pygments_lexer": "ipython3",
   "version": "3.11.3"
  }
 },
 "nbformat": 4,
 "nbformat_minor": 5
}
