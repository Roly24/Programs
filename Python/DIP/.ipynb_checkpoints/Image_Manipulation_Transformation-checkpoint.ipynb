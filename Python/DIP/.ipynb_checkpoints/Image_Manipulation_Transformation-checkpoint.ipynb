{
 "cells": [
  {
   "cell_type": "markdown",
   "id": "80ecdcd4",
   "metadata": {},
   "source": [
    "# Chapter 1\n",
    "In this section, we will cover the following recipes:\n",
    "- Transforming color space (RGB -> Lab)\n",
    "- Applying affine transformation\n",
    "- Creating pencil sketches from images\n",
    "- Creating cartoonish images\n",
    "- Simulation light art/long exposure\n",
    "- Object detection using color in HSV\n",
    "\n",
    "<b>CIELAB</b>: abreviated as Lab color space consists of tree color channels, expressing the color of a pixel as tree tuples (L, a, b), where the **L** channel stands for **luminosity/illumination/intensity** (lightness). The **a** and **b** channels represent the **green, red** and **blue-yellow** color components, respectively."
   ]
  },
  {
   "cell_type": "code",
   "execution_count": 4,
   "id": "f62ffd35",
   "metadata": {},
   "outputs": [],
   "source": [
    "import numpy as np\n",
    "from skimage.io import imread\n",
    "from skimage.color import rgb2lab, lab2rgb\n",
    "import matplotlib.pylab as plt"
   ]
  },
  {
   "cell_type": "markdown",
   "id": "d40ece48",
   "metadata": {},
   "source": [
    "## Converting RGB image into grayscale by setting the Lab space color channels to zero\n"
   ]
  },
  {
   "cell_type": "code",
   "execution_count": 9,
   "id": "748a5d49",
   "metadata": {},
   "outputs": [],
   "source": [
    "# Read the input image\n",
    "im = imread('flowers.png')\n",
    "im1 = rgb2lab(im)\n",
    "\n",
    "# Set the color channel values (second and third channels) to zero\n",
    "im1[...,1] = im1[...,2] = 0\n",
    "\n",
    "# Obtain the grayscale image converting the image back into RGB space\n",
    "im1 = lab2rgb(im1)\n",
    "\n",
    "# Plot the input and output images as shown in the following code\n",
    "plt.figure(figsize=(20,10))\n",
    "plt.subplot(121), plt.imshow(im), plt.axis('off'),\n",
    "plt.title('Original image', size=20)"
   ]
  },
  {
   "cell_type": "code",
   "execution_count": null,
   "id": "1f94c16a",
   "metadata": {},
   "outputs": [],
   "source": []
  }
 ],
 "metadata": {
  "kernelspec": {
   "display_name": ".venv",
   "language": "python",
   "name": ".venv"
  },
  "language_info": {
   "codemirror_mode": {
    "name": "ipython",
    "version": 3
   },
   "file_extension": ".py",
   "mimetype": "text/x-python",
   "name": "python",
   "nbconvert_exporter": "python",
   "pygments_lexer": "ipython3",
   "version": "3.10.10"
  }
 },
 "nbformat": 4,
 "nbformat_minor": 5
}
