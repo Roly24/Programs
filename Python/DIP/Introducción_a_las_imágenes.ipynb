{
 "cells": [
  {
   "cell_type": "markdown",
   "id": "239305f6",
   "metadata": {},
   "source": [
    "# Introducción a las imágenes\n",
    "Una imagen es una matriz de pixeles. Cada pixel tiene un valor de 0 a 255.\n",
    "\n",
    "En la escala a grises:\n",
    "- 0 es color negro\n",
    "- 255 color blanco"
   ]
  },
  {
   "cell_type": "code",
   "execution_count": 1,
   "id": "4273e609",
   "metadata": {},
   "outputs": [],
   "source": [
    "import numpy as np\n",
    "import matplotlib.pyplot as plt"
   ]
  },
  {
   "cell_type": "code",
   "execution_count": 94,
   "id": "800e0c4f",
   "metadata": {},
   "outputs": [
    {
     "data": {
      "text/plain": [
       "array([[[0],\n",
       "        [0],\n",
       "        [0],\n",
       "        [0],\n",
       "        [0],\n",
       "        [0],\n",
       "        [0],\n",
       "        [0],\n",
       "        [0],\n",
       "        [0]],\n",
       "\n",
       "       [[0],\n",
       "        [0],\n",
       "        [0],\n",
       "        [0],\n",
       "        [0],\n",
       "        [0],\n",
       "        [0],\n",
       "        [0],\n",
       "        [0],\n",
       "        [0]],\n",
       "\n",
       "       [[0],\n",
       "        [0],\n",
       "        [0],\n",
       "        [0],\n",
       "        [0],\n",
       "        [0],\n",
       "        [0],\n",
       "        [0],\n",
       "        [0],\n",
       "        [0]],\n",
       "\n",
       "       [[0],\n",
       "        [0],\n",
       "        [0],\n",
       "        [0],\n",
       "        [0],\n",
       "        [0],\n",
       "        [0],\n",
       "        [0],\n",
       "        [0],\n",
       "        [0]],\n",
       "\n",
       "       [[0],\n",
       "        [0],\n",
       "        [0],\n",
       "        [0],\n",
       "        [0],\n",
       "        [0],\n",
       "        [0],\n",
       "        [0],\n",
       "        [0],\n",
       "        [0]],\n",
       "\n",
       "       [[0],\n",
       "        [0],\n",
       "        [0],\n",
       "        [0],\n",
       "        [0],\n",
       "        [0],\n",
       "        [0],\n",
       "        [0],\n",
       "        [0],\n",
       "        [0]],\n",
       "\n",
       "       [[0],\n",
       "        [0],\n",
       "        [0],\n",
       "        [0],\n",
       "        [0],\n",
       "        [0],\n",
       "        [0],\n",
       "        [0],\n",
       "        [0],\n",
       "        [0]],\n",
       "\n",
       "       [[0],\n",
       "        [0],\n",
       "        [0],\n",
       "        [0],\n",
       "        [0],\n",
       "        [0],\n",
       "        [0],\n",
       "        [0],\n",
       "        [0],\n",
       "        [0]],\n",
       "\n",
       "       [[0],\n",
       "        [0],\n",
       "        [0],\n",
       "        [0],\n",
       "        [0],\n",
       "        [0],\n",
       "        [0],\n",
       "        [0],\n",
       "        [0],\n",
       "        [0]],\n",
       "\n",
       "       [[0],\n",
       "        [0],\n",
       "        [0],\n",
       "        [0],\n",
       "        [0],\n",
       "        [0],\n",
       "        [0],\n",
       "        [0],\n",
       "        [0],\n",
       "        [0]]], dtype=uint8)"
      ]
     },
     "execution_count": 94,
     "metadata": {},
     "output_type": "execute_result"
    }
   ],
   "source": [
    "img = np.zeros((10,10,1),np.uint8)\n",
    "img"
   ]
  },
  {
   "cell_type": "code",
   "execution_count": 103,
   "id": "13e31807",
   "metadata": {},
   "outputs": [
    {
     "name": "stdout",
     "output_type": "stream",
     "text": [
      "[[[255]\n",
      "  [  0]\n",
      "  [255]\n",
      "  [  0]\n",
      "  [255]\n",
      "  [  0]\n",
      "  [255]\n",
      "  [  0]\n",
      "  [255]\n",
      "  [  0]]\n",
      "\n",
      " [[  0]\n",
      "  [255]\n",
      "  [  0]\n",
      "  [255]\n",
      "  [  0]\n",
      "  [255]\n",
      "  [  0]\n",
      "  [255]\n",
      "  [  0]\n",
      "  [255]]\n",
      "\n",
      " [[255]\n",
      "  [  0]\n",
      "  [255]\n",
      "  [  0]\n",
      "  [255]\n",
      "  [  0]\n",
      "  [255]\n",
      "  [  0]\n",
      "  [255]\n",
      "  [  0]]\n",
      "\n",
      " [[  0]\n",
      "  [255]\n",
      "  [  0]\n",
      "  [255]\n",
      "  [  0]\n",
      "  [255]\n",
      "  [  0]\n",
      "  [255]\n",
      "  [  0]\n",
      "  [255]]\n",
      "\n",
      " [[255]\n",
      "  [  0]\n",
      "  [255]\n",
      "  [  0]\n",
      "  [255]\n",
      "  [  0]\n",
      "  [255]\n",
      "  [  0]\n",
      "  [255]\n",
      "  [  0]]\n",
      "\n",
      " [[  0]\n",
      "  [255]\n",
      "  [  0]\n",
      "  [255]\n",
      "  [  0]\n",
      "  [255]\n",
      "  [  0]\n",
      "  [255]\n",
      "  [  0]\n",
      "  [255]]\n",
      "\n",
      " [[255]\n",
      "  [  0]\n",
      "  [255]\n",
      "  [  0]\n",
      "  [255]\n",
      "  [  0]\n",
      "  [255]\n",
      "  [  0]\n",
      "  [255]\n",
      "  [  0]]\n",
      "\n",
      " [[  0]\n",
      "  [255]\n",
      "  [  0]\n",
      "  [255]\n",
      "  [  0]\n",
      "  [255]\n",
      "  [  0]\n",
      "  [255]\n",
      "  [  0]\n",
      "  [255]]\n",
      "\n",
      " [[255]\n",
      "  [  0]\n",
      "  [255]\n",
      "  [  0]\n",
      "  [255]\n",
      "  [  0]\n",
      "  [255]\n",
      "  [  0]\n",
      "  [255]\n",
      "  [  0]]\n",
      "\n",
      " [[  0]\n",
      "  [255]\n",
      "  [  0]\n",
      "  [255]\n",
      "  [  0]\n",
      "  [255]\n",
      "  [  0]\n",
      "  [255]\n",
      "  [  0]\n",
      "  [255]]]\n"
     ]
    }
   ],
   "source": [
    "print(img)"
   ]
  },
  {
   "cell_type": "code",
   "execution_count": 78,
   "id": "3339b390",
   "metadata": {},
   "outputs": [
    {
     "data": {
      "image/png": "[encoded data removed]",
      "text/plain": [
       "<Figure size 432x288 with 1 Axes>"
      ]
     },
     "metadata": {
      "needs_background": "light"
     },
     "output_type": "display_data"
    }
   ],
   "source": [
    "plt.imshow(img, cmap='gray')\n",
    "plt.show()"
   ]
  },
  {
   "cell_type": "code",
   "execution_count": 102,
   "id": "4f00edbb",
   "metadata": {},
   "outputs": [
    {
     "data": {
      "text/plain": [
       "<matplotlib.image.AxesImage at 0x7fd7ad9b4a60>"
      ]
     },
     "execution_count": 102,
     "metadata": {},
     "output_type": "execute_result"
    },
    {
     "data": {
      "image/png": "[encoded data removed]",
      "text/plain": [
       "<Figure size 432x288 with 1 Axes>"
      ]
     },
     "metadata": {
      "needs_background": "light"
     },
     "output_type": "display_data"
    }
   ],
   "source": [
    "for j in range(0,9,2):\n",
    "    for i in range(0,10,2):\n",
    "        img[j][i][0] = 255\n",
    "\n",
    "    for i in range(1,10,2):\n",
    "        img[j+1][i][0] = 255\n",
    "plt.imshow(img, cmap='gray')"
   ]
  }
 ],
 "metadata": {
  "kernelspec": {
   "display_name": ".venv",
   "language": "python",
   "name": ".venv"
  },
  "language_info": {
   "codemirror_mode": {
    "name": "ipython",
    "version": 3
   },
   "file_extension": ".py",
   "mimetype": "text/x-python",
   "name": "python",
   "nbconvert_exporter": "python",
   "pygments_lexer": "ipython3",
   "version": "3.10.10"
  }
 },
 "nbformat": 4,
 "nbformat_minor": 5
}
